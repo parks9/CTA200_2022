{
 "cells": [
  {
   "cell_type": "markdown",
   "id": "bae99bd5",
   "metadata": {},
   "source": [
    "# Question 1"
   ]
  },
  {
   "cell_type": "code",
   "execution_count": null,
   "id": "9224bd36",
   "metadata": {},
   "outputs": [],
   "source": [
    "#imports.\n",
    "\n",
    "import numpy as np\n",
    "import matplotlib.pyplot as plt\n",
    "from iterate import iterate"
   ]
  },
  {
   "cell_type": "code",
   "execution_count": null,
   "id": "8bdd671f",
   "metadata": {},
   "outputs": [],
   "source": [
    "%%time\n",
    "\n",
    "#setting the number of iterations and the number of points along each axis on the image.\n",
    "\n",
    "N = 50\n",
    "points = 400\n",
    "\n",
    "x = np.linspace(-2, 2, points)\n",
    "y = np.linspace(-2, 2, points)\n",
    "\n",
    "# Generate 2D mesh of coordinates\n",
    "X, Y = np.meshgrid(x, y)\n",
    "\n",
    "# Initializing two empty images, one for each task.\n",
    "U = np.zeros((len(x), len(y)))\n",
    "\n",
    "U2 = U.copy()\n",
    "\n",
    "#Populating the first array with the square modulus values of each point \n",
    "# after the iterate function has been applied and populating\n",
    "#the second array with the characteristic \"divergence number\" for each point.\n",
    "\n",
    "for i in range(len(x)):\n",
    "    for j in range(len(y)):\n",
    "        U[i,j] = iterate(x[i],y[j], N)[1][-1]\n",
    "        U2[i,j] = iterate(x[i],y[j], N)[2]\n",
    "        \n",
    "\n",
    "#Eliminating the values that run to infinity, thus being set to nan.        \n",
    "        \n",
    "U1 = np.nan_to_num(U, copy=True, nan = 100)\n",
    "\n",
    "\n",
    "#Setting threshold for divergence and creating a binary array.\n",
    "\n",
    "thresh = 8\n",
    "\n",
    "U1[U1 <= thresh] = 0\n",
    "U1[U1 > thresh] = 1\n",
    "        "
   ]
  },
  {
   "cell_type": "code",
   "execution_count": null,
   "id": "e48b33c5",
   "metadata": {},
   "outputs": [],
   "source": [
    "plt.figure(figsize=(10,7), dpi=100)\n",
    "plt.imshow(U1.transpose(), cmap='gray', origin='lower')\n",
    "plt.xlabel(\"X\")\n",
    "plt.ylabel(\"Y\")\n",
    "plt.colorbar(label=\"Amplitude\")\n",
    "plt.show()"
   ]
  },
  {
   "cell_type": "code",
   "execution_count": null,
   "id": "bc45201b",
   "metadata": {
    "scrolled": true
   },
   "outputs": [],
   "source": [
    "plt.figure(figsize=(10,7), dpi=100)\n",
    "plt.imshow(U2.transpose(), origin='lower')\n",
    "plt.xlabel(\"X\")\n",
    "plt.ylabel(\"Y\")\n",
    "plt.colorbar(label=\"Amplitude\")\n",
    "plt.show()"
   ]
  },
  {
   "cell_type": "markdown",
   "id": "606db1db",
   "metadata": {},
   "source": [
    "# Question 2"
   ]
  },
  {
   "cell_type": "code",
   "execution_count": null,
   "id": "f89cb8cf",
   "metadata": {},
   "outputs": [],
   "source": [
    "from scipy.integrate import solve_ivp"
   ]
  },
  {
   "cell_type": "code",
   "execution_count": null,
   "id": "a4159000",
   "metadata": {},
   "outputs": [],
   "source": [
    "#Defining the system of differential equations given\n",
    "\n",
    "def dot(t, pos, sig, r, b):\n",
    "    \"\"\"\n",
    "    The system of differential equations (1), (2) and (3) from Question 2.\n",
    "    \n",
    "    \n",
    "    Arguments\n",
    "    ----------\n",
    "    \n",
    "    t: float\n",
    "        Time at which the system is being evaluated.\n",
    "    \n",
    "    pos : array_like (float)\n",
    "        3D array of the three Fourier nodes used (X, Y, Z)\n",
    "        \n",
    "    sig : float\n",
    "        Constant\n",
    "        \n",
    "    r : float\n",
    "        Constant\n",
    "        \n",
    "    b : float\n",
    "        Constant\n",
    "        \n",
    "        \n",
    "    Returns\n",
    "    ----------\n",
    "    \n",
    "    xdot / ydot / zdot : float\n",
    "        Time derivative of the three nodes.\n",
    "    \n",
    "    \n",
    "    \"\"\"\n",
    "    \n",
    "    x,y,z = pos\n",
    "    \n",
    "    xdot = -sig * (x - y)\n",
    "    ydot = r*x - y - x*z\n",
    "    zdot = -b*z + x*y\n",
    "    \n",
    "    return xdot, ydot, zdot"
   ]
  },
  {
   "cell_type": "code",
   "execution_count": null,
   "id": "e7d9a309",
   "metadata": {},
   "outputs": [],
   "source": [
    "#Constants and initial conditions\n",
    "\n",
    "sig = 10\n",
    "r = 28\n",
    "b = 8/3\n",
    "\n",
    "y0 = np.array([0,1,0])\n",
    "\n",
    "t_eval = np.linspace(0,60, 6000)\n",
    "t_span = [0, 60]\n",
    "\n",
    "atol = [3e-12, 3e-12, 3e-12]\n",
    "rtol = 3e-12\n",
    "\n",
    "#Creating a function that will run the solve_ivp function with our specific conditions.\n",
    "\n",
    "def solve_lorenz(y0):\n",
    "    return solve_ivp(\n",
    "        fun=lambda t,pos: dot(t, pos, sig, r, b),\n",
    "        t_span = t_span,\n",
    "        y0 = y0,\n",
    "        t_eval = t_eval,\n",
    "        atol = atol,\n",
    "        rtol = rtol\n",
    "    )"
   ]
  },
  {
   "cell_type": "code",
   "execution_count": null,
   "id": "52b5498a",
   "metadata": {},
   "outputs": [],
   "source": [
    "x_sol, y_sol, z_sol = solve_lorenz(y0).y"
   ]
  },
  {
   "cell_type": "code",
   "execution_count": null,
   "id": "66984cbb",
   "metadata": {},
   "outputs": [],
   "source": [
    "fig, ax = plt.subplots(3,1, figsize=(5,5))\n",
    "\n",
    "ax[0].plot(t_eval[:1000], y_sol[:1000])\n",
    "ax[0].hlines(y=0, xmin=0, xmax=10, color='k', alpha=0.7)\n",
    "ax[0].set_xlabel('Time')\n",
    "ax[0].set_ylabel('Y')\n",
    "\n",
    "ax[1].plot(t_eval[1001:2000], y_sol[1001:2000])\n",
    "ax[1].hlines(y=0, xmin=10, xmax=20, color='k', alpha=0.7)\n",
    "ax[1].set_xlabel('Time')\n",
    "ax[1].set_ylabel('Y')\n",
    "\n",
    "ax[2].plot(t_eval[2001:3000], y_sol[2001:3000])\n",
    "ax[2].hlines(y=0, xmin=20, xmax=30, color='k', alpha =0.7)\n",
    "ax[2].set_xlabel('Time')\n",
    "ax[2].set_ylabel('Y', size=15)\n",
    "\n",
    "\n",
    "plt.tight_layout()\n",
    "plt.show()"
   ]
  },
  {
   "cell_type": "code",
   "execution_count": null,
   "id": "bb6bb6a2",
   "metadata": {
    "scrolled": true
   },
   "outputs": [],
   "source": [
    "size = 15\n",
    "\n",
    "\n",
    "\n",
    "fig, ax = plt.subplots(2,1, figsize=(5,10))\n",
    "\n",
    "ax[0].plot(y_sol[1400:1900], z_sol[1400:1900])\n",
    "ax[0].set_xlabel('Y', size=size)\n",
    "ax[0].set_ylabel('Z', size=size)\n",
    "\n",
    "for i in range(1400, 2000, 100):\n",
    "    ax[0].plot(y_sol[i], z_sol[i], 'ko', ms=3)\n",
    "    ax[0].text(y_sol[i]+1, z_sol[i]+1, '%i' %(i/100))\n",
    "\n",
    "\n",
    "ax[1].plot(y_sol[1400:1900], x_sol[1400:1900])\n",
    "ax[1].set_xlabel('Y', size=size)\n",
    "ax[1].set_ylabel('X', size=size)\n",
    "ax[1].invert_yaxis()\n",
    "\n",
    "for i in range(1400, 2000, 100):\n",
    "    ax[1].plot(y_sol[i], x_sol[i], 'ko', ms=3)\n",
    "    ax[1].text(y_sol[i]+1, x_sol[i]+1, '%i' %(i/100))\n",
    "    \n",
    "\n",
    "plt.tight_layout()\n",
    "plt.show()"
   ]
  },
  {
   "cell_type": "code",
   "execution_count": null,
   "id": "7d89e0d4",
   "metadata": {},
   "outputs": [],
   "source": [
    "#Adding a pertubation to the given initial conditions.\n",
    "\n",
    "y1 = y0 + np.array([0,1e-8,0])\n",
    "\n",
    "x_sol1, y_sol1, z_sol1 = solve_lorenz(y1).y"
   ]
  },
  {
   "cell_type": "code",
   "execution_count": null,
   "id": "8199b925",
   "metadata": {},
   "outputs": [],
   "source": [
    "#Getting the distance at every instance between W_0 and W'_0.\n",
    "\n",
    "W_dist = np.sqrt((x_sol - x_sol1)**2 +  (y_sol - y_sol1)**2 + (z_sol - z_sol1)**2)\n"
   ]
  },
  {
   "cell_type": "code",
   "execution_count": null,
   "id": "25007095",
   "metadata": {},
   "outputs": [],
   "source": [
    "figure = plt.figure(figsize=(10,7))\n",
    "\n",
    "plt.plot(t_eval, W_dist)\n",
    "plt.yscale('log')\n",
    "plt.xlabel('Time', size=15)\n",
    "plt.ylabel('Distance |W\\'-W|', size=15)\n",
    "\n",
    "plt.show()"
   ]
  },
  {
   "cell_type": "code",
   "execution_count": null,
   "id": "97db5fb5",
   "metadata": {},
   "outputs": [],
   "source": []
  }
 ],
 "metadata": {
  "kernelspec": {
   "display_name": "Python 3 (ipykernel)",
   "language": "python",
   "name": "python3"
  },
  "language_info": {
   "codemirror_mode": {
    "name": "ipython",
    "version": 3
   },
   "file_extension": ".py",
   "mimetype": "text/x-python",
   "name": "python",
   "nbconvert_exporter": "python",
   "pygments_lexer": "ipython3",
   "version": "3.10.2"
  }
 },
 "nbformat": 4,
 "nbformat_minor": 5
}

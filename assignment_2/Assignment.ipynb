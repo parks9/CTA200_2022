{
 "cells": [
  {
   "cell_type": "code",
   "execution_count": 1,
   "id": "cecd3615",
   "metadata": {},
   "outputs": [],
   "source": [
    "def f(x):\n",
    "    return x**3 - x**2 - 1\n",
    "\n",
    "def df(x):\n",
    "    return 3*x**2 - 2*x"
   ]
  },
  {
   "cell_type": "code",
   "execution_count": 21,
   "id": "89a387e8",
   "metadata": {},
   "outputs": [
    {
     "ename": "SyntaxError",
     "evalue": "invalid syntax (1090184898.py, line 8)",
     "output_type": "error",
     "traceback": [
      "\u001b[0;36m  Input \u001b[0;32mIn [21]\u001b[0;36m\u001b[0m\n\u001b[0;31m    global(n) = False\u001b[0m\n\u001b[0m          ^\u001b[0m\n\u001b[0;31mSyntaxError\u001b[0m\u001b[0;31m:\u001b[0m invalid syntax\n"
     ]
    }
   ],
   "source": [
    "def newton(f, df, x0, epsilon, max_iter):\n",
    "    j = x0\n",
    "    n = True\n",
    "    while  n == True:\n",
    "        for i in range(max_iter):\n",
    "            if -epsilon < f(j) < epsilon:\n",
    "                print(\"Found root in %i iterations\" %i)\n",
    "                global(n) = False\n",
    "            else:\n",
    "                j -= f(j) / df(j)"
   ]
  },
  {
   "cell_type": "code",
   "execution_count": 29,
   "id": "5b3f6f34",
   "metadata": {},
   "outputs": [],
   "source": [
    "def newton(f, df, x0, epsilon, max_iter):\n",
    "    \"\"\" Performs Newton iteration to find a root of a function.\n",
    "    \n",
    "    Provided the function and its derivative, the Newton iterator\n",
    "    will find the nearest root to the initial guess (x0). Possible\n",
    "    exceptions include points that are far from any roots, points where\n",
    "    the derivative is zero and fuctions with no roots.\n",
    "    \n",
    "    Arguments\n",
    "    ----------\n",
    "    \n",
    "    f : func\n",
    "        Given mathematical function.\n",
    "        \n",
    "    df : func\n",
    "        Derivative of function (f).\n",
    "        \n",
    "    x0 : float_like\n",
    "        Initial guess for the root of the function (f).\n",
    "        \n",
    "    epsilon : float_like\n",
    "        Small value that defines an interval of validity for an input\n",
    "        to be numerically considered a root.\n",
    "        \n",
    "    max_iter : int\n",
    "        Number of iterations.\n",
    "        \n",
    "        \n",
    "    Returns\n",
    "    ----------\n",
    "    \n",
    "    j : float_like\n",
    "        The root found by the iterator\n",
    "        \n",
    "    None : None\n",
    "        None if no root could be found.\n",
    "    \n",
    "    \"\"\"\n",
    "    \n",
    "    j = x0\n",
    "    \n",
    "    for i in range(max_iter):\n",
    "        if -epsilon < f(j) < epsilon:\n",
    "            print('Found root in %i iterations'%i)\n",
    "            return j\n",
    "        elif i == max_iter:\n",
    "            print('Iteration Failed')\n",
    "            return None\n",
    "        \n",
    "        elif df(j) == 0:\n",
    "            print('Invalid initial guess: Division by zero')\n",
    "            return None\n",
    "        \n",
    "        else:\n",
    "            j -= f(j) / df(j)\n",
    "            "
   ]
  },
  {
   "cell_type": "code",
   "execution_count": 30,
   "id": "f3ae911c",
   "metadata": {},
   "outputs": [
    {
     "name": "stdout",
     "output_type": "stream",
     "text": [
      "Found root in 15 iterations\n",
      "1.4655712318887797\n"
     ]
    }
   ],
   "source": [
    "print(newton(f, df, 100, 1e-6, 30))"
   ]
  },
  {
   "cell_type": "code",
   "execution_count": null,
   "id": "b5c473e3",
   "metadata": {},
   "outputs": [],
   "source": []
  }
 ],
 "metadata": {
  "kernelspec": {
   "display_name": "Python 3 (ipykernel)",
   "language": "python",
   "name": "python3"
  },
  "language_info": {
   "codemirror_mode": {
    "name": "ipython",
    "version": 3
   },
   "file_extension": ".py",
   "mimetype": "text/x-python",
   "name": "python",
   "nbconvert_exporter": "python",
   "pygments_lexer": "ipython3",
   "version": "3.10.2"
  }
 },
 "nbformat": 4,
 "nbformat_minor": 5
}

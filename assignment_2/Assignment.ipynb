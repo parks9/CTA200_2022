{
 "cells": [
  {
   "cell_type": "code",
   "execution_count": 3,
   "id": "ce60c0cc",
   "metadata": {},
   "outputs": [],
   "source": [
    "def f(x):\n",
    "    return x**3 - x**2 - 1\n",
    "\n",
    "def df(x):\n",
    "    return 3*x**2 - 2*x"
   ]
  },
  {
   "cell_type": "code",
   "execution_count": 4,
   "id": "cf00f566",
   "metadata": {},
   "outputs": [],
   "source": [
    "def newton(f, df, x0, epsilon, max_iter):\n",
    "    \"\"\" Performs Newton iteration to find a root of a function.\n",
    "    \n",
    "    Provided the function and its derivative, the Newton iterator\n",
    "    will find the nearest root to the initial guess (x0). Possible\n",
    "    exceptions include points that are far from any roots, points where\n",
    "    the derivative is zero and fuctions with no roots.\n",
    "    \n",
    "    Arguments\n",
    "    ----------\n",
    "    \n",
    "    f : func\n",
    "        Given mathematical function.\n",
    "        \n",
    "    df : func\n",
    "        Derivative of function (f).\n",
    "        \n",
    "    x0 : float_like\n",
    "        Initial guess for the root of the function (f).\n",
    "        \n",
    "    epsilon : float_like\n",
    "        Small value that defines an interval of validity for an input\n",
    "        to be numerically considered a root.\n",
    "        \n",
    "    max_iter : int\n",
    "        Number of iterations.\n",
    "        \n",
    "        \n",
    "    Returns\n",
    "    ----------\n",
    "    \n",
    "    j : float_like\n",
    "        The root found by the iterator\n",
    "        \n",
    "    None : None\n",
    "        None if no root could be found.\n",
    "    \n",
    "    \"\"\"\n",
    "    \n",
    "    j = x0\n",
    "    \n",
    "    for i in range(max_iter):\n",
    "        if -epsilon < f(j) < epsilon:\n",
    "            print('Found root in %i iterations'%i)\n",
    "            return j\n",
    "        elif i == max_iter:\n",
    "            print('Iteration Failed')\n",
    "            return None\n",
    "        \n",
    "        elif df(j) == 0:\n",
    "            print('Invalid initial guess: Division by zero')\n",
    "            return None\n",
    "        \n",
    "        else:\n",
    "            j -= f(j) / df(j)\n",
    "            "
   ]
  },
  {
   "cell_type": "markdown",
   "id": "ba4db184",
   "metadata": {},
   "source": [
    "## Trying a few initial guesses"
   ]
  },
  {
   "cell_type": "code",
   "execution_count": 13,
   "id": "c61878d6",
   "metadata": {},
   "outputs": [
    {
     "name": "stdout",
     "output_type": "stream",
     "text": [
      "Found root in 15 iterations\n",
      "1.4655712318887797 \n",
      "\n",
      "Found root in 9 iterations\n",
      "1.4655712480155687 \n",
      "\n",
      "Found root in 26 iterations\n",
      "1.4655712457825427\n"
     ]
    }
   ],
   "source": [
    "print(newton(f, df, 100, 1e-6, 30), '\\n')\n",
    "print(newton(f, df, 11, 1e-6, 30), '\\n')   \n",
    "print(newton(f, df, -5, 1e-6, 30))"
   ]
  },
  {
   "cell_type": "markdown",
   "id": "14dfa3df",
   "metadata": {},
   "source": [
    "## Changing the epsilon value"
   ]
  },
  {
   "cell_type": "code",
   "execution_count": 12,
   "id": "ecdce51b",
   "metadata": {},
   "outputs": [
    {
     "name": "stdout",
     "output_type": "stream",
     "text": [
      "Found root in 15 iterations\n",
      "1.4655712318887797 \n",
      "\n",
      "Found root in 10 iterations\n",
      "1.4655712318767682 \n",
      "\n",
      "Found root in 27 iterations\n",
      "1.4655712318767682\n"
     ]
    }
   ],
   "source": [
    "print(newton(f, df, 100, 1e-8, 30), '\\n')\n",
    "print(newton(f, df, 11, 1e-8, 30), '\\n')   \n",
    "print(newton(f, df, -5, 1e-8, 30))"
   ]
  },
  {
   "cell_type": "markdown",
   "id": "3f661ade",
   "metadata": {},
   "source": [
    "For the second and third guesses, it takes one more iteration and the answers differ slightly. Otherwise, the first try does not change."
   ]
  },
  {
   "cell_type": "code",
   "execution_count": null,
   "id": "6c21d118",
   "metadata": {},
   "outputs": [],
   "source": []
  }
 ],
 "metadata": {
  "kernelspec": {
   "display_name": "Python 3 (ipykernel)",
   "language": "python",
   "name": "python3"
  },
  "language_info": {
   "codemirror_mode": {
    "name": "ipython",
    "version": 3
   },
   "file_extension": ".py",
   "mimetype": "text/x-python",
   "name": "python",
   "nbconvert_exporter": "python",
   "pygments_lexer": "ipython3",
   "version": "3.10.2"
  }
 },
 "nbformat": 4,
 "nbformat_minor": 5
}
